{
 "cells": [
  {
   "cell_type": "code",
   "execution_count": null,
   "metadata": {},
   "outputs": [],
   "source": [
    "import os, sys\n",
    "import nglview as nv\n",
    "from ipywidgets.embed import embed_minimal_html\n",
    "import pytraj as pt"
   ]
  },
  {
   "cell_type": "code",
   "execution_count": null,
   "metadata": {},
   "outputs": [],
   "source": [
    "top = os.environ.get(\"_DASHMD_top\", \"../test/cpx.prmtop\")\n",
    "rst = os.environ.get(\"_DASHMD_rst\", \"../test/cpx.rst7\")"
   ]
  },
  {
   "cell_type": "code",
   "execution_count": null,
   "metadata": {},
   "outputs": [],
   "source": [
    "traj = pt.load(rst, top)\n",
    "t = nv.PyTrajTrajectory(traj)\n",
    "view = nv.NGLWidget(t)\n",
    "view.camera = 'orthographic'\n",
    "view._set_size(850, 600)\n",
    "view.clear_representations()\n",
    "view.add_cartoon(\"protein\", color=\"red\")\n",
    "view.add_licorice(\"WAT and not hydrogen\", color=\"blue\", linewidth=1)\n",
    "view.add_licorice(\"not WAT and not protein and not hydrogen\", color=\"grey\", opacity=0.5)\n",
    "view"
   ]
  },
  {
   "cell_type": "code",
   "execution_count": null,
   "metadata": {},
   "outputs": [],
   "source": [
    "embed_minimal_html(\"../../data/nglview.html\", views=[view])"
   ]
  }
 ],
 "metadata": {
  "kernelspec": {
   "display_name": "Python 3",
   "language": "python",
   "name": "python3"
  },
  "language_info": {
   "codemirror_mode": {
    "name": "ipython",
    "version": 3
   },
   "file_extension": ".py",
   "mimetype": "text/x-python",
   "name": "python",
   "nbconvert_exporter": "python",
   "pygments_lexer": "ipython3",
   "version": "3.6.9"
  },
  "toc": {
   "base_numbering": 1,
   "nav_menu": {},
   "number_sections": true,
   "sideBar": true,
   "skip_h1_title": false,
   "title_cell": "Table of Contents",
   "title_sidebar": "Contents",
   "toc_cell": false,
   "toc_position": {},
   "toc_section_display": true,
   "toc_window_display": false
  }
 },
 "nbformat": 4,
 "nbformat_minor": 2
}
